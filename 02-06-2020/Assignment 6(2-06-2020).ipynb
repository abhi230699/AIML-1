{
 "cells": [
  {
   "cell_type": "markdown",
   "metadata": {},
   "source": [
    "## cse-221710304034-M.Sailohith"
   ]
  },
  {
   "cell_type": "code",
   "execution_count": 3,
   "metadata": {},
   "outputs": [
    {
     "name": "stdout",
     "output_type": "stream",
     "text": [
      "apple\n",
      "Enter a letter or word:w\n",
      "you have still  8  chances\n",
      "['?', '?', '?', '?', '?']\n",
      "Enter a letter or word:w\n",
      "you have still  7  chances\n",
      "['?', '?', '?', '?', '?']\n",
      "Enter a letter or word:w\n",
      "you have still  6  chances\n",
      "['?', '?', '?', '?', '?']\n",
      "Enter a letter or word:w\n",
      "you have still  5  chances\n",
      "['?', '?', '?', '?', '?']\n",
      "Enter a letter or word:w\n",
      "you have still  4  chances\n",
      "['?', '?', '?', '?', '?']\n",
      "Enter a letter or word:w\n",
      "you have still  3  chances\n",
      "['?', '?', '?', '?', '?']\n",
      "Enter a letter or word:w\n",
      "you have still  2  chances\n",
      "['?', '?', '?', '?', '?']\n",
      "Enter a letter or word:w\n",
      "you have still  1  chances\n",
      "['?', '?', '?', '?', '?']\n",
      "Enter a letter or word:w\n",
      "you have still  0  chances\n",
      "['?', '?', '?', '?', '?']\n",
      "You have lost the game\n"
     ]
    }
   ],
   "source": [
    "#nine lives\n",
    "import random\n",
    "list=[\"hello\",\"pizza\",\"mango\",\"apple\",\"sweet\"] \n",
    "word = random.choice(list)\n",
    "result=[\"?\",\"?\",\"?\",\"?\",\"?\"]\n",
    "turns=9 \n",
    "count=0\n",
    "k=0\n",
    "z=word\n",
    "print(z)\n",
    "def chang(word):\n",
    "    return list(word)\n",
    "while(turns>0):\n",
    "    ans=input(\"Enter a letter or word:\")\n",
    "    if(len(ans)>1):\n",
    "        if z==ans:\n",
    "            print(\"You won congrats\\n the word is \",word)\n",
    "            break\n",
    "        else:\n",
    "            turns-=1\n",
    "            print(\"you have still \",turns,\" chances\")\n",
    "    else:\n",
    "        for i in word:\n",
    "            if(ans==i):\n",
    "                count+=1\n",
    "                k+=1\n",
    "                r1=word.index(i)\n",
    "                break\n",
    "        if k==0:\n",
    "            turns-=1\n",
    "            print(\"you have still \",turns,\" chances\")\n",
    "            print(result)\n",
    "        else:\n",
    "            result.pop(r1)\n",
    "            word=word.replace(word[r1],\"1\",1)\n",
    "            result.insert(r1,ans)\n",
    "            k=0\n",
    "            print(result)\n",
    "    if(count==5):\n",
    "        print(\"You won congrats\\n the word is \",z)\n",
    "        break\n",
    "if(turns==0):\n",
    "    print(\"You have lost the game\")"
   ]
  },
  {
   "cell_type": "code",
   "execution_count": null,
   "metadata": {},
   "outputs": [],
   "source": []
  }
 ],
 "metadata": {
  "kernelspec": {
   "display_name": "Python 3",
   "language": "python",
   "name": "python3"
  },
  "language_info": {
   "codemirror_mode": {
    "name": "ipython",
    "version": 3
   },
   "file_extension": ".py",
   "mimetype": "text/x-python",
   "name": "python",
   "nbconvert_exporter": "python",
   "pygments_lexer": "ipython3",
   "version": "3.7.3"
  }
 },
 "nbformat": 4,
 "nbformat_minor": 2
}
